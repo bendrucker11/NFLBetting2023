{
 "cells": [
  {
   "cell_type": "code",
   "execution_count": 1,
   "metadata": {},
   "outputs": [],
   "source": [
    "import pandas as pd"
   ]
  },
  {
   "cell_type": "code",
   "execution_count": 35,
   "metadata": {},
   "outputs": [
    {
     "name": "stdout",
     "output_type": "stream",
     "text": [
      "4843\n"
     ]
    }
   ],
   "source": [
    "\n",
    "# read csv's\n",
    "yearly_data = pd.read_csv('data/yearly_data_updated_08_23.csv')\n",
    "weekly_data = pd.read_csv('data/weekly_data_updated_08_23.csv')\n",
    "spread_data = pd.read_csv('data/spreadspoke_scores.csv')\n",
    "teams_data = pd.read_csv('data/nfl_teams.csv')\n",
    "\n",
    "# drop rows where spread_favorite or over_under_line are nan\n",
    "spread_data = spread_data.dropna(subset=['spread_favorite', 'over_under_line'])\n",
    "# drop rows before year\n",
    "year = 2005\n",
    "recent_spread_data = spread_data[spread_data['schedule_season'] >= year]\n",
    "\n",
    "print(len(recent_spread_data))"
   ]
  }
 ],
 "metadata": {
  "kernelspec": {
   "display_name": "Python 3",
   "language": "python",
   "name": "python3"
  },
  "language_info": {
   "codemirror_mode": {
    "name": "ipython",
    "version": 3
   },
   "file_extension": ".py",
   "mimetype": "text/x-python",
   "name": "python",
   "nbconvert_exporter": "python",
   "pygments_lexer": "ipython3",
   "version": "3.10.1"
  },
  "orig_nbformat": 4
 },
 "nbformat": 4,
 "nbformat_minor": 2
}
